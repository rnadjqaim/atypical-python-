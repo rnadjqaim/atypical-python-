{
  "nbformat": 4,
  "nbformat_minor": 0,
  "metadata": {
    "colab": {
      "provenance": [],
      "collapsed_sections": [],
      "authorship_tag": "ABX9TyOiAfyoP03FerTCkudVz/jv",
      "include_colab_link": true
    },
    "kernelspec": {
      "name": "python3",
      "display_name": "Python 3"
    },
    "language_info": {
      "name": "python"
    }
  },
  "cells": [
    {
      "cell_type": "markdown",
      "metadata": {
        "id": "view-in-github",
        "colab_type": "text"
      },
      "source": [
        "<a href=\"https://colab.research.google.com/github/rnadjqaim/atypical-python-/blob/main/sesssion_3.ipynb\" target=\"_parent\"><img src=\"https://colab.research.google.com/assets/colab-badge.svg\" alt=\"Open In Colab\"/></a>"
      ]
    },
    {
      "cell_type": "code",
      "execution_count": 9,
      "metadata": {
        "colab": {
          "base_uri": "https://localhost:8080/"
        },
        "id": "zNPiqr5xx_6Y",
        "outputId": "00a5a03d-a788-49e4-8aa4-55d2538a1427"
      },
      "outputs": [
        {
          "output_type": "stream",
          "name": "stdout",
          "text": [
            "Ahmed have 5 char\n",
            "ahmed\n"
          ]
        }
      ],
      "source": [
        "#nested if \n",
        "# if inside if \n",
        "\n",
        "name = \"Ahmed\"\n",
        "if len(name)==5 :\n",
        "  print (name,\"have 5 char\")\n",
        "  if name[0] == \"A\" :\n",
        "    l=name.replace (\"A\",\"a\")\n",
        "    print (l)\n",
        "  elif name[1]==\"H\" :\n",
        "    print (len(name))\n",
        "  else :\n",
        "    print (\"none\")\n",
        "elif  len(name) > 1 : # is not null \n",
        "  print (\"the variable is not null\")\n",
        "elif len (name) == 0 : \n",
        "  print (\"the variable is empty/null\") \n",
        "else :\n",
        "  print (\"the code is end\")\n",
        "\n",
        "\n",
        "\n",
        "\n",
        "    "
      ]
    },
    {
      "cell_type": "code",
      "source": [],
      "metadata": {
        "colab": {
          "base_uri": "https://localhost:8080/",
          "height": 252
        },
        "id": "M5msvWfI1CeI",
        "outputId": "d305a179-500a-4ed6-b725-c30a9885d621"
      },
      "execution_count": 12,
      "outputs": [
        {
          "output_type": "stream",
          "name": "stdout",
          "text": [
            "len = 4\n"
          ]
        },
        {
          "output_type": "error",
          "ename": "TypeError",
          "evalue": "ignored",
          "traceback": [
            "\u001b[0;31m---------------------------------------------------------------------------\u001b[0m",
            "\u001b[0;31mTypeError\u001b[0m                                 Traceback (most recent call last)",
            "\u001b[0;32m<ipython-input-12-111c91e4cf46>\u001b[0m in \u001b[0;36m<module>\u001b[0;34m\u001b[0m\n\u001b[1;32m      8\u001b[0m   \u001b[0mprint\u001b[0m \u001b[0;34m(\u001b[0m\u001b[0;34m\"end\"\u001b[0m\u001b[0;34m)\u001b[0m\u001b[0;34m\u001b[0m\u001b[0;34m\u001b[0m\u001b[0m\n\u001b[1;32m      9\u001b[0m \u001b[0;32mfor\u001b[0m \u001b[0mi\u001b[0m \u001b[0;32min\u001b[0m \u001b[0mname\u001b[0m \u001b[0;34m:\u001b[0m\u001b[0;34m\u001b[0m\u001b[0;34m\u001b[0m\u001b[0m\n\u001b[0;32m---> 10\u001b[0;31m   \u001b[0;32mif\u001b[0m \u001b[0mname\u001b[0m \u001b[0;34m[\u001b[0m\u001b[0mi\u001b[0m\u001b[0;34m]\u001b[0m \u001b[0;34m==\u001b[0m \u001b[0;36m0\u001b[0m \u001b[0;34m:\u001b[0m\u001b[0;34m\u001b[0m\u001b[0;34m\u001b[0m\u001b[0m\n\u001b[0m\u001b[1;32m     11\u001b[0m     \u001b[0mprint\u001b[0m \u001b[0;34m(\u001b[0m\u001b[0;36m0\u001b[0m\u001b[0;34m)\u001b[0m\u001b[0;34m\u001b[0m\u001b[0;34m\u001b[0m\u001b[0m\n\u001b[1;32m     12\u001b[0m   \u001b[0;32melse\u001b[0m \u001b[0;34m:\u001b[0m\u001b[0;34m\u001b[0m\u001b[0;34m\u001b[0m\u001b[0m\n",
            "\u001b[0;31mTypeError\u001b[0m: string indices must be integers"
          ]
        }
      ]
    },
    {
      "cell_type": "code",
      "source": [
        "for c  in range (0,c):\n",
        "  print (\"*\")"
      ],
      "metadata": {
        "colab": {
          "base_uri": "https://localhost:8080/"
        },
        "id": "RIcTW7Zd3Xxg",
        "outputId": "3a6f0d3a-9a4d-45a9-840a-14572112ae72"
      },
      "execution_count": 22,
      "outputs": [
        {
          "output_type": "stream",
          "name": "stdout",
          "text": [
            "*\n"
          ]
        }
      ]
    },
    {
      "cell_type": "code",
      "source": [
        "k = 5\n",
        "l=4\n",
        "for u in range (1,k): # k-1 \n",
        "  print (\"*\")\n",
        "  "
      ],
      "metadata": {
        "colab": {
          "base_uri": "https://localhost:8080/"
        },
        "id": "f-gzk6ne5V6W",
        "outputId": "864cab66-41b2-4300-8d6c-41e574692743"
      },
      "execution_count": 25,
      "outputs": [
        {
          "output_type": "stream",
          "name": "stdout",
          "text": [
            "*\n",
            "*\n",
            "*\n",
            "*\n"
          ]
        }
      ]
    },
    {
      "cell_type": "code",
      "source": [
        "#nested for : for in for\n",
        "name =['ahmed','jehad','refuida','khaled'] \n",
        "if len(name) == 0 : \n",
        "  print (\"empty\")\n",
        "else :\n",
        "  for y in name :\n",
        "    print (y)\n",
        "    if y ==\"ahmed\" : \n",
        "      print (\"is here\")\n",
        "    else :\n",
        "      print (\"none\")   \n",
        "    for i in name :\n",
        "      if i ==\"ahmed\" and i ==\"jehad\" and i == \"refuida\" and i==\"khaled\" :\n",
        "        print (\"all people are here !\")\n",
        "      else : \n",
        "        print (\"none\")    \n",
        "        print (i.replace (\"ahmed\",\"null\"))\n"
      ],
      "metadata": {
        "colab": {
          "base_uri": "https://localhost:8080/"
        },
        "id": "YKwvAnK15zyl",
        "outputId": "627d8ab1-657d-4edc-d496-f37a102097b6"
      },
      "execution_count": 33,
      "outputs": [
        {
          "output_type": "stream",
          "name": "stdout",
          "text": [
            "ahmed\n",
            "is here\n",
            "none\n",
            "null\n",
            "none\n",
            "jehad\n",
            "none\n",
            "refuida\n",
            "none\n",
            "khaled\n",
            "jehad\n",
            "none\n",
            "none\n",
            "null\n",
            "none\n",
            "jehad\n",
            "none\n",
            "refuida\n",
            "none\n",
            "khaled\n",
            "refuida\n",
            "none\n",
            "none\n",
            "null\n",
            "none\n",
            "jehad\n",
            "none\n",
            "refuida\n",
            "none\n",
            "khaled\n",
            "khaled\n",
            "none\n",
            "none\n",
            "null\n",
            "none\n",
            "jehad\n",
            "none\n",
            "refuida\n",
            "none\n",
            "khaled\n"
          ]
        }
      ]
    },
    {
      "cell_type": "code",
      "source": [
        "x =5\n",
        "for i in range (0,x):\n",
        "  print (\"*\"*i)"
      ],
      "metadata": {
        "colab": {
          "base_uri": "https://localhost:8080/"
        },
        "id": "0kGGQEkj8aal",
        "outputId": "d78ec380-7df9-4e0d-c6c4-6b8f173b7853"
      },
      "execution_count": 46,
      "outputs": [
        {
          "output_type": "stream",
          "name": "stdout",
          "text": [
            "\n",
            "*\n",
            "**\n",
            "***\n",
            "****\n"
          ]
        }
      ]
    },
    {
      "cell_type": "code",
      "source": [
        "x= 10\n",
        "y=5\n",
        "for i in range (1,x+3): # x-1 \n",
        "  print (x, \"x\", i, \"=\", i*x)\n",
        "  for u in range (1,y+1) :\n",
        "    print (\"####################\")\n",
        "    print (x, \"x\", u, \"=\", u*x) "
      ],
      "metadata": {
        "colab": {
          "base_uri": "https://localhost:8080/"
        },
        "id": "0zwUafwC99mk",
        "outputId": "77047c40-167d-4fad-f2d1-f3b87c0bd371"
      },
      "execution_count": 65,
      "outputs": [
        {
          "output_type": "stream",
          "name": "stdout",
          "text": [
            "10 x 1 = 10\n",
            "####################\n",
            "10 x 1 = 10\n",
            "####################\n",
            "10 x 2 = 20\n",
            "####################\n",
            "10 x 3 = 30\n",
            "####################\n",
            "10 x 4 = 40\n",
            "####################\n",
            "10 x 5 = 50\n",
            "10 x 2 = 20\n",
            "####################\n",
            "10 x 1 = 10\n",
            "####################\n",
            "10 x 2 = 20\n",
            "####################\n",
            "10 x 3 = 30\n",
            "####################\n",
            "10 x 4 = 40\n",
            "####################\n",
            "10 x 5 = 50\n",
            "10 x 3 = 30\n",
            "####################\n",
            "10 x 1 = 10\n",
            "####################\n",
            "10 x 2 = 20\n",
            "####################\n",
            "10 x 3 = 30\n",
            "####################\n",
            "10 x 4 = 40\n",
            "####################\n",
            "10 x 5 = 50\n",
            "10 x 4 = 40\n",
            "####################\n",
            "10 x 1 = 10\n",
            "####################\n",
            "10 x 2 = 20\n",
            "####################\n",
            "10 x 3 = 30\n",
            "####################\n",
            "10 x 4 = 40\n",
            "####################\n",
            "10 x 5 = 50\n",
            "10 x 5 = 50\n",
            "####################\n",
            "10 x 1 = 10\n",
            "####################\n",
            "10 x 2 = 20\n",
            "####################\n",
            "10 x 3 = 30\n",
            "####################\n",
            "10 x 4 = 40\n",
            "####################\n",
            "10 x 5 = 50\n",
            "10 x 6 = 60\n",
            "####################\n",
            "10 x 1 = 10\n",
            "####################\n",
            "10 x 2 = 20\n",
            "####################\n",
            "10 x 3 = 30\n",
            "####################\n",
            "10 x 4 = 40\n",
            "####################\n",
            "10 x 5 = 50\n",
            "10 x 7 = 70\n",
            "####################\n",
            "10 x 1 = 10\n",
            "####################\n",
            "10 x 2 = 20\n",
            "####################\n",
            "10 x 3 = 30\n",
            "####################\n",
            "10 x 4 = 40\n",
            "####################\n",
            "10 x 5 = 50\n",
            "10 x 8 = 80\n",
            "####################\n",
            "10 x 1 = 10\n",
            "####################\n",
            "10 x 2 = 20\n",
            "####################\n",
            "10 x 3 = 30\n",
            "####################\n",
            "10 x 4 = 40\n",
            "####################\n",
            "10 x 5 = 50\n",
            "10 x 9 = 90\n",
            "####################\n",
            "10 x 1 = 10\n",
            "####################\n",
            "10 x 2 = 20\n",
            "####################\n",
            "10 x 3 = 30\n",
            "####################\n",
            "10 x 4 = 40\n",
            "####################\n",
            "10 x 5 = 50\n",
            "10 x 10 = 100\n",
            "####################\n",
            "10 x 1 = 10\n",
            "####################\n",
            "10 x 2 = 20\n",
            "####################\n",
            "10 x 3 = 30\n",
            "####################\n",
            "10 x 4 = 40\n",
            "####################\n",
            "10 x 5 = 50\n",
            "10 x 11 = 110\n",
            "####################\n",
            "10 x 1 = 10\n",
            "####################\n",
            "10 x 2 = 20\n",
            "####################\n",
            "10 x 3 = 30\n",
            "####################\n",
            "10 x 4 = 40\n",
            "####################\n",
            "10 x 5 = 50\n",
            "10 x 12 = 120\n",
            "####################\n",
            "10 x 1 = 10\n",
            "####################\n",
            "10 x 2 = 20\n",
            "####################\n",
            "10 x 3 = 30\n",
            "####################\n",
            "10 x 4 = 40\n",
            "####################\n",
            "10 x 5 = 50\n"
          ]
        }
      ]
    },
    {
      "cell_type": "code",
      "source": [
        "yourpasswd= input (\"your passwd\")\n",
        "for i in range (len(yourpasswd)) :\n",
        "  i=i+1\n",
        "print (i)"
      ],
      "metadata": {
        "colab": {
          "base_uri": "https://localhost:8080/"
        },
        "id": "TP_agLmA-XnF",
        "outputId": "b60174a2-983a-4046-a550-013aea0d7c0d"
      },
      "execution_count": 58,
      "outputs": [
        {
          "output_type": "stream",
          "name": "stdout",
          "text": [
            "your passwdlgt,lc.;yx.\n",
            "11\n"
          ]
        }
      ]
    },
    {
      "cell_type": "code",
      "source": [],
      "metadata": {
        "id": "nZf4Ki4U_UgT"
      },
      "execution_count": null,
      "outputs": []
    },
    {
      "cell_type": "code",
      "source": [],
      "metadata": {
        "id": "FEcKWwSj1EII"
      },
      "execution_count": null,
      "outputs": []
    },
    {
      "cell_type": "code",
      "source": [],
      "metadata": {
        "id": "DKQg1Hbs1D5c"
      },
      "execution_count": null,
      "outputs": []
    }
  ]
}